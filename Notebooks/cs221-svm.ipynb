{
 "cells": [
  {
   "cell_type": "code",
   "execution_count": 9,
   "metadata": {},
   "outputs": [
    {
     "name": "stdout",
     "output_type": "stream",
     "text": [
      "count                                                  6192\n",
      "unique                                                 6176\n",
      "top       trade mission conclude in london us representa...\n",
      "freq                                                      4\n",
      "Name: text, dtype: object\n",
      "binary\n",
      "Hope        3104\n",
      "Not Hope    3088\n",
      "Name: count, dtype: int64\n",
      "multiclass\n",
      "Not Hope            3088\n",
      "Generalized Hope    1726\n",
      "Realistic Hope       730\n",
      "Unrealistic Hope     648\n",
      "Name: count, dtype: int64\n"
     ]
    }
   ],
   "source": [
    "import pandas as pd\n",
    "from sklearn.feature_extraction.text import TfidfVectorizer\n",
    "from sklearn.model_selection import GridSearchCV\n",
    "from sklearn.svm import SVC\n",
    "\n",
    "# Read the data from the CSV files\n",
    "train_data = pd.read_csv(\"./English datasets/Preprocessed Datasets/final_train_en.csv\")\n",
    "validation_data = pd.read_csv(\"./English datasets/Preprocessed Datasets/final_val_en.csv\")\n",
    "test_data = pd.read_csv(\"./English datasets/Preprocessed Datasets/final_test_en_labeled.csv\")\n",
    "\n",
    "# Analyze the statistics of the dataset\n",
    "train_data_stats = train_data.describe()\n",
    "validation_data_stats = validation_data.describe()\n",
    "test_data_stats = test_data.describe()\n",
    "# Print the statistics of the \"text\" column in the data\n",
    "print(train_data[\"text\"].describe())\n",
    "\n",
    "# Calculate the distribution of values in the \"binary\" column\n",
    "print(train_data[\"binary\"].value_counts())\n",
    "\n",
    "# Calculate the distribution of values in the \"multiclass\" column\n",
    "print(train_data[\"multiclass\"].value_counts())"
   ]
  },
  {
   "cell_type": "markdown",
   "metadata": {},
   "source": [
    "# Binary Classification"
   ]
  },
  {
   "cell_type": "code",
   "execution_count": 10,
   "metadata": {},
   "outputs": [
    {
     "name": "stdout",
     "output_type": "stream",
     "text": [
      "[[0. 0. 0. ... 0. 0. 0.]\n",
      " [0. 0. 0. ... 0. 0. 0.]\n",
      " [0. 0. 0. ... 0. 0. 0.]\n",
      " [0. 0. 0. ... 0. 0. 0.]\n",
      " [0. 0. 0. ... 0. 0. 0.]]\n"
     ]
    }
   ],
   "source": [
    "# Extract the features and labels\n",
    "X_train = train_data[\"text\"]\n",
    "y_train = train_data[\"binary\"]\n",
    "\n",
    "# Create a TF-IDF vectorizer\n",
    "vectorizer = TfidfVectorizer()\n",
    "\n",
    "# Transform the training data\n",
    "X_train_tfidf = vectorizer.fit_transform(X_train)\n",
    "\n",
    "# Print the head of the transformed data\n",
    "print(X_train_tfidf.toarray()[:5])"
   ]
  },
  {
   "cell_type": "code",
   "execution_count": 11,
   "metadata": {},
   "outputs": [
    {
     "name": "stdout",
     "output_type": "stream",
     "text": [
      "Best parameters: {'C': 1, 'gamma': 'scale', 'kernel': 'rbf'}\n"
     ]
    }
   ],
   "source": [
    "# Set up the SVM model\n",
    "svm_model = SVC()\n",
    "\n",
    "# Define the parameter grid for GridSearchCV\n",
    "param_grid = {\n",
    "    \"C\": [0.1, 1, 10],\n",
    "    \"kernel\": [\"linear\", \"rbf\"],\n",
    "    \"gamma\": [\"scale\", \"auto\"]\n",
    "}\n",
    "\n",
    "# Set up the GridSearchCV\n",
    "grid_search = GridSearchCV(svm_model, param_grid, cv=5)\n",
    "\n",
    "# Train the SVM model using GridSearchCV\n",
    "grid_search.fit(X_train_tfidf, y_train)\n",
    "\n",
    "# Print the best parameters found by GridSearchCV\n",
    "print(\"Best parameters:\", grid_search.best_params_)"
   ]
  },
  {
   "cell_type": "code",
   "execution_count": 12,
   "metadata": {},
   "outputs": [],
   "source": [
    "# Fit the TF-IDF vectorizer\n",
    "vectorizer.fit(X_train)\n",
    "\n",
    "# Transform the test data\n",
    "X_test_tfidf = vectorizer.transform(test_data[\"text\"])"
   ]
  },
  {
   "cell_type": "code",
   "execution_count": 13,
   "metadata": {},
   "outputs": [
    {
     "name": "stdout",
     "output_type": "stream",
     "text": [
      "              precision    recall  f1-score   support\n",
      "\n",
      "        Hope       0.81      0.81      0.81       541\n",
      "    Not Hope       0.79      0.79      0.79       491\n",
      "\n",
      "    accuracy                           0.80      1032\n",
      "   macro avg       0.80      0.80      0.80      1032\n",
      "weighted avg       0.80      0.80      0.80      1032\n",
      "\n"
     ]
    }
   ],
   "source": [
    "from sklearn.metrics import classification_report\n",
    "\n",
    "# Make predictions on the test data\n",
    "y_pred = grid_search.predict(X_test_tfidf)\n",
    "\n",
    "# Print the classification report\n",
    "print(classification_report(test_data[\"binary\"], y_pred))"
   ]
  },
  {
   "cell_type": "code",
   "execution_count": 17,
   "metadata": {},
   "outputs": [
    {
     "name": "stdout",
     "output_type": "stream",
     "text": [
      "Confusion matrix for binary classification:\n",
      "[[438 103]\n",
      " [102 389]]\n"
     ]
    },
    {
     "data": {
      "image/png": "[encoded data removed]",
      "text/plain": [
       "<Figure size 640x480 with 2 Axes>"
      ]
     },
     "metadata": {},
     "output_type": "display_data"
    }
   ],
   "source": [
    "from sklearn.metrics import confusion_matrix\n",
    "import seaborn as sns\n",
    "import matplotlib.pyplot as plt\n",
    "# Compute the confusion matrix for binary classification\n",
    "cm_binary = confusion_matrix(test_data[\"binary\"], y_pred)\n",
    "print(\"Confusion matrix for binary classification:\")\n",
    "print(cm_binary)\n",
    "# Plot the confusion matrix for binary classification\n",
    "sns.heatmap(cm_binary, annot=True, fmt='d')\n",
    "plt.xlabel('Predicted')\n",
    "plt.ylabel('Actual')\n",
    "plt.title('Confusion Matrix for Binary Classification')\n",
    "\n",
    "plt.show()"
   ]
  },
  {
   "cell_type": "markdown",
   "metadata": {},
   "source": [
    "# Multiclass Classification"
   ]
  },
  {
   "cell_type": "code",
   "execution_count": 14,
   "metadata": {
    "vscode": {
     "languageId": "ruby"
    }
   },
   "outputs": [
    {
     "name": "stdout",
     "output_type": "stream",
     "text": [
      "                  precision    recall  f1-score   support\n",
      "\n",
      "Generalized Hope       0.61      0.63      0.62       309\n",
      "        Not Hope       0.71      0.87      0.79       491\n",
      "  Realistic Hope       0.45      0.21      0.29       124\n",
      "Unrealistic Hope       0.62      0.31      0.41       108\n",
      "\n",
      "        accuracy                           0.66      1032\n",
      "       macro avg       0.60      0.51      0.53      1032\n",
      "    weighted avg       0.64      0.66      0.64      1032\n",
      "\n"
     ]
    }
   ],
   "source": [
    "# Extract the features and labels\n",
    "X_train_multiclass = train_data[\"text\"]\n",
    "y_train_multiclass = train_data[\"multiclass\"]\n",
    "\n",
    "# Create a new TF-IDF vectorizer\n",
    "vectorizer_multiclass = TfidfVectorizer()\n",
    "\n",
    "# Transform the training data\n",
    "X_train_tfidf_multiclass = vectorizer_multiclass.fit_transform(X_train_multiclass)\n",
    "\n",
    "# Set up the SVM model for multiclass classification\n",
    "svm_model_multiclass = SVC()\n",
    "\n",
    "# Define the parameter grid for GridSearchCV\n",
    "param_grid_multiclass = {\n",
    "    \"C\": [0.1, 1, 10],\n",
    "    \"kernel\": [\"linear\", \"rbf\"],\n",
    "    \"gamma\": [\"scale\", \"auto\"]\n",
    "}\n",
    "\n",
    "# Set up the GridSearchCV for multiclass classification\n",
    "grid_search_multiclass = GridSearchCV(svm_model_multiclass, param_grid_multiclass, cv=5)\n",
    "\n",
    "# Train the SVM model using GridSearchCV for multiclass classification\n",
    "grid_search_multiclass.fit(X_train_tfidf_multiclass, y_train_multiclass)\n",
    "\n",
    "# Fit the TF-IDF vectorizer on the training data for multiclass classification\n",
    "vectorizer_multiclass.fit(X_train_multiclass)\n",
    "\n",
    "# Transform the test data for multiclass classification\n",
    "X_test_tfidf_multiclass = vectorizer_multiclass.transform(test_data[\"text\"])\n",
    "\n",
    "# Make predictions on the test data for multiclass classification\n",
    "y_pred_multiclass = grid_search_multiclass.predict(X_test_tfidf_multiclass)\n",
    "\n",
    "# Print the classification report for multiclass classification\n",
    "print(classification_report(test_data[\"multiclass\"], y_pred_multiclass))"
   ]
  },
  {
   "cell_type": "code",
   "execution_count": 18,
   "metadata": {
    "vscode": {
     "languageId": "ruby"
    }
   },
   "outputs": [
    {
     "name": "stdout",
     "output_type": "stream",
     "text": [
      "Confusion matrix for multiclass classification:\n",
      "Confusion matrix for multiclass classification:\n",
      "[[196  84  20   9]\n",
      " [ 50 429   5   7]\n",
      " [ 57  37  26   4]\n",
      " [ 17  51   7  33]]\n"
     ]
    },
    {
     "data": {
      "image/png": "[encoded data removed]",
      "text/plain": [
       "<Figure size 640x480 with 2 Axes>"
      ]
     },
     "metadata": {},
     "output_type": "display_data"
    }
   ],
   "source": [
    "# Compute the confusion matrix for multiclass classification\n",
    "cm_multiclass = confusion_matrix(test_data[\"multiclass\"], y_pred_multiclass)\n",
    "print(\"Confusion matrix for multiclass classification:\")\n",
    "import seaborn as sns\n",
    "\n",
    "# Compute the confusion matrix for multiclass classification\n",
    "cm_multiclass = confusion_matrix(test_data[\"multiclass\"], y_pred_multiclass)\n",
    "print(\"Confusion matrix for multiclass classification:\")\n",
    "print(cm_multiclass)\n",
    "\n",
    "# Plot the confusion matrix for multiclass classification\n",
    "sns.heatmap(cm_multiclass, annot=True, fmt='d')\n",
    "plt.xlabel('Predicted')\n",
    "plt.ylabel('Actual')\n",
    "plt.title('Confusion Matrix for Multiclass Classification')\n",
    "\n",
    "plt.show()"
   ]
  },
  {
   "cell_type": "code",
   "execution_count": null,
   "metadata": {
    "vscode": {
     "languageId": "ruby"
    }
   },
   "outputs": [],
   "source": []
  }
 ],
 "metadata": {
  "kernelspec": {
   "display_name": "Python 3",
   "language": "python",
   "name": "python3"
  },
  "language_info": {
   "codemirror_mode": {
    "name": "ipython",
    "version": 3
   },
   "file_extension": ".py",
   "mimetype": "text/x-python",
   "name": "python",
   "nbconvert_exporter": "python",
   "pygments_lexer": "ipython3",
   "version": "3.12.2"
  }
 },
 "nbformat": 4,
 "nbformat_minor": 2
}
